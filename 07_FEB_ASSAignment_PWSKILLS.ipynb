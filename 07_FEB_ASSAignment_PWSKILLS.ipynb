{
 "cells": [
  {
   "cell_type": "code",
   "execution_count": 1,
   "id": "555662d8",
   "metadata": {},
   "outputs": [],
   "source": [
    "# Question 1"
   ]
  },
  {
   "cell_type": "code",
   "execution_count": 6,
   "id": "e4cdbeb4",
   "metadata": {},
   "outputs": [],
   "source": [
    "import string"
   ]
  },
  {
   "cell_type": "code",
   "execution_count": 7,
   "id": "294f5786",
   "metadata": {},
   "outputs": [
    {
     "data": {
      "text/plain": [
       "'!\"#$%&\\'()*+,-./:;<=>?@[\\\\]^_`{|}~'"
      ]
     },
     "execution_count": 7,
     "metadata": {},
     "output_type": "execute_result"
    }
   ],
   "source": [
    "string.punctuation"
   ]
  },
  {
   "cell_type": "code",
   "execution_count": 10,
   "id": "e4f26b99",
   "metadata": {},
   "outputs": [],
   "source": [
    "def passwordcheck(password):\n",
    "    if len(password) != 10:\n",
    "        return \"Invalid Password !\"\n",
    "    chars = {\"upper\" : 0 , \"lower\" : 0 , \"numbers\" : 0 , \"specials\" : 0} \n",
    "    for i in password : \n",
    "        if ord(i) >= 65 and ord(i) <= 90 :\n",
    "            chars[\"upper\"] += 1 \n",
    "        elif ord(i) >= 97 and ord(i) <= 122 : \n",
    "            chars[\"lower\"] += 1 \n",
    "        elif ord(i) >= 48 and ord(i) <= 57 :\n",
    "            chars[\"numbers\"] += 1 \n",
    "        \n",
    "        else : \n",
    "            chars[\"specials\"] += 1 \n",
    "    \n",
    "    if chars[\"upper\"] >= 2 and chars[\"lower\"] >=2 and chars[\"numbers\"] >= 1 and chars[\"specials\"] >= 3 :\n",
    "        return \"Valid Password !\"\n",
    "    else : \n",
    "        return \"Invalid Paasowrd\""
   ]
  },
  {
   "cell_type": "code",
   "execution_count": 11,
   "id": "b67b7acf",
   "metadata": {},
   "outputs": [
    {
     "name": "stdout",
     "output_type": "stream",
     "text": [
      "Enter your password : PavanK@9#$\n"
     ]
    }
   ],
   "source": [
    "password = input(\"Enter your password : \")"
   ]
  },
  {
   "cell_type": "code",
   "execution_count": 12,
   "id": "20889ead",
   "metadata": {},
   "outputs": [
    {
     "data": {
      "text/plain": [
       "'Valid Password !'"
      ]
     },
     "execution_count": 12,
     "metadata": {},
     "output_type": "execute_result"
    }
   ],
   "source": [
    "passwordcheck(password)"
   ]
  },
  {
   "cell_type": "code",
   "execution_count": 13,
   "id": "2f4bcabd",
   "metadata": {},
   "outputs": [],
   "source": [
    "# Question 2"
   ]
  },
  {
   "cell_type": "code",
   "execution_count": 71,
   "id": "6bf1e5b1",
   "metadata": {},
   "outputs": [],
   "source": [
    "# Checking wether a given string starting with a particular letter or not "
   ]
  },
  {
   "cell_type": "code",
   "execution_count": 74,
   "id": "58fa8652",
   "metadata": {},
   "outputs": [],
   "source": [
    "a = 'I am Kasa Pavan'"
   ]
  },
  {
   "cell_type": "code",
   "execution_count": 75,
   "id": "7c93a5aa",
   "metadata": {},
   "outputs": [
    {
     "data": {
      "text/plain": [
       "'a'"
      ]
     },
     "execution_count": 75,
     "metadata": {},
     "output_type": "execute_result"
    }
   ],
   "source": [
    "letter = 'A'\n",
    "letter.lower()"
   ]
  },
  {
   "cell_type": "code",
   "execution_count": 76,
   "id": "e8fbe8f4",
   "metadata": {},
   "outputs": [],
   "source": [
    "func = lambda x : x[0].lower() == letter"
   ]
  },
  {
   "cell_type": "code",
   "execution_count": 77,
   "id": "f6c4dfc8",
   "metadata": {},
   "outputs": [
    {
     "data": {
      "text/plain": [
       "False"
      ]
     },
     "execution_count": 77,
     "metadata": {},
     "output_type": "execute_result"
    }
   ],
   "source": [
    "func(a)"
   ]
  },
  {
   "cell_type": "code",
   "execution_count": 22,
   "id": "25b23732",
   "metadata": {},
   "outputs": [],
   "source": [
    "# Checing string is numeric "
   ]
  },
  {
   "cell_type": "code",
   "execution_count": 25,
   "id": "b88063bb",
   "metadata": {},
   "outputs": [],
   "source": [
    "def isnumeric(a):\n",
    "    for i in a : \n",
    "        if ord(i) >= 48 and ord(i) <= 57 :\n",
    "            continue \n",
    "        else : \n",
    "            return False \n",
    "    return True"
   ]
  },
  {
   "cell_type": "code",
   "execution_count": 41,
   "id": "d7c42699",
   "metadata": {},
   "outputs": [
    {
     "data": {
      "text/plain": [
       "[False]"
      ]
     },
     "execution_count": 41,
     "metadata": {},
     "output_type": "execute_result"
    }
   ],
   "source": [
    "list(map(isnumeric , [\"1233q\"]))"
   ]
  },
  {
   "cell_type": "code",
   "execution_count": 42,
   "id": "28a49793",
   "metadata": {},
   "outputs": [],
   "source": [
    "# Sorting a list having fruit names and quantity"
   ]
  },
  {
   "cell_type": "code",
   "execution_count": 44,
   "id": "b8502a72",
   "metadata": {},
   "outputs": [],
   "source": [
    "func = lambda x : x.sort()"
   ]
  },
  {
   "cell_type": "code",
   "execution_count": 49,
   "id": "b3561179",
   "metadata": {},
   "outputs": [],
   "source": [
    "a = [(\"mango\",99),(\"orange\",80), (\"grapes\", 1000) , (\"mango\" , 96)]\n",
    "func(a)"
   ]
  },
  {
   "cell_type": "code",
   "execution_count": 50,
   "id": "b8afa388",
   "metadata": {},
   "outputs": [
    {
     "data": {
      "text/plain": [
       "[('grapes', 1000), ('mango', 96), ('mango', 99), ('orange', 80)]"
      ]
     },
     "execution_count": 50,
     "metadata": {},
     "output_type": "execute_result"
    }
   ],
   "source": [
    "a"
   ]
  },
  {
   "cell_type": "code",
   "execution_count": 51,
   "id": "837d1b0a",
   "metadata": {},
   "outputs": [],
   "source": [
    "# Finding squares of numbers from 1-10"
   ]
  },
  {
   "cell_type": "code",
   "execution_count": 52,
   "id": "a2c6f5e5",
   "metadata": {},
   "outputs": [],
   "source": [
    "def squares(x):\n",
    "    return x*x"
   ]
  },
  {
   "cell_type": "code",
   "execution_count": 53,
   "id": "b6c52850",
   "metadata": {},
   "outputs": [
    {
     "data": {
      "text/plain": [
       "[1, 4, 9, 16, 25, 36, 49, 64, 81, 100]"
      ]
     },
     "execution_count": 53,
     "metadata": {},
     "output_type": "execute_result"
    }
   ],
   "source": [
    "list(map(squares , [1 , 2 ,3 ,4 , 5 , 6 , 7 , 8 , 9 , 10]))"
   ]
  },
  {
   "cell_type": "code",
   "execution_count": 54,
   "id": "e9ba2fc8",
   "metadata": {},
   "outputs": [],
   "source": [
    "def cuberoot(x) :\n",
    "    return x ** (1/3)"
   ]
  },
  {
   "cell_type": "code",
   "execution_count": 55,
   "id": "e4c30228",
   "metadata": {},
   "outputs": [
    {
     "data": {
      "text/plain": [
       "[1.0,\n",
       " 1.2599210498948732,\n",
       " 1.4422495703074083,\n",
       " 1.5874010519681994,\n",
       " 1.7099759466766968,\n",
       " 1.8171205928321397,\n",
       " 1.912931182772389,\n",
       " 2.0,\n",
       " 2.080083823051904,\n",
       " 2.154434690031884]"
      ]
     },
     "execution_count": 55,
     "metadata": {},
     "output_type": "execute_result"
    }
   ],
   "source": [
    "list(map(cuberoot , [1 , 2 ,3 ,4 , 5 , 6 , 7 , 8 , 9 , 10]))"
   ]
  },
  {
   "cell_type": "code",
   "execution_count": 56,
   "id": "4f2dc982",
   "metadata": {},
   "outputs": [],
   "source": [
    "#Check if a given number is even"
   ]
  },
  {
   "cell_type": "code",
   "execution_count": 57,
   "id": "8464deac",
   "metadata": {},
   "outputs": [],
   "source": [
    "func = lambda x : x%2 == 0"
   ]
  },
  {
   "cell_type": "code",
   "execution_count": 59,
   "id": "054b8c30",
   "metadata": {},
   "outputs": [
    {
     "data": {
      "text/plain": [
       "(True, False, True)"
      ]
     },
     "execution_count": 59,
     "metadata": {},
     "output_type": "execute_result"
    }
   ],
   "source": [
    "func(2) , func(5) , func(10)"
   ]
  },
  {
   "cell_type": "code",
   "execution_count": 60,
   "id": "8c2d494c",
   "metadata": {},
   "outputs": [],
   "source": [
    "#Filter odd numbers from the given list."
   ]
  },
  {
   "cell_type": "code",
   "execution_count": 62,
   "id": "161ddb58",
   "metadata": {},
   "outputs": [],
   "source": [
    "func = lambda x : x%2 != 0 "
   ]
  },
  {
   "cell_type": "code",
   "execution_count": 65,
   "id": "a582ca14",
   "metadata": {},
   "outputs": [
    {
     "data": {
      "text/plain": [
       "[1, 3, 5, 7, 9]"
      ]
     },
     "execution_count": 65,
     "metadata": {},
     "output_type": "execute_result"
    }
   ],
   "source": [
    "list(filter(func , [1,2,3,4,5,6,7,8,9,10]))"
   ]
  },
  {
   "cell_type": "code",
   "execution_count": 66,
   "id": "a5851882",
   "metadata": {},
   "outputs": [],
   "source": [
    "# Sort a list of integers into positive and negative integers lists."
   ]
  },
  {
   "cell_type": "code",
   "execution_count": 67,
   "id": "b5475e75",
   "metadata": {},
   "outputs": [],
   "source": [
    "req = [1,2,3,4,5,6,-1,-2,-3,-4,-5,0]"
   ]
  },
  {
   "cell_type": "code",
   "execution_count": 68,
   "id": "7ba86aab",
   "metadata": {},
   "outputs": [],
   "source": [
    "positives = []\n",
    "negitives = [] \n",
    "\n",
    "for i in req :\n",
    "    if i >= 0 :\n",
    "        positives.append(i)\n",
    "    else : \n",
    "        negitives.append(i)"
   ]
  },
  {
   "cell_type": "code",
   "execution_count": 69,
   "id": "adad0e7b",
   "metadata": {},
   "outputs": [
    {
     "data": {
      "text/plain": [
       "[1, 2, 3, 4, 5, 6, 0]"
      ]
     },
     "execution_count": 69,
     "metadata": {},
     "output_type": "execute_result"
    }
   ],
   "source": [
    "positives "
   ]
  },
  {
   "cell_type": "code",
   "execution_count": 70,
   "id": "4abf4939",
   "metadata": {},
   "outputs": [
    {
     "data": {
      "text/plain": [
       "[-1, -2, -3, -4, -5]"
      ]
     },
     "execution_count": 70,
     "metadata": {},
     "output_type": "execute_result"
    }
   ],
   "source": [
    "negitives"
   ]
  }
 ],
 "metadata": {
  "kernelspec": {
   "display_name": "Python 3 (ipykernel)",
   "language": "python",
   "name": "python3"
  },
  "language_info": {
   "codemirror_mode": {
    "name": "ipython",
    "version": 3
   },
   "file_extension": ".py",
   "mimetype": "text/x-python",
   "name": "python",
   "nbconvert_exporter": "python",
   "pygments_lexer": "ipython3",
   "version": "3.11.5"
  }
 },
 "nbformat": 4,
 "nbformat_minor": 5
}
